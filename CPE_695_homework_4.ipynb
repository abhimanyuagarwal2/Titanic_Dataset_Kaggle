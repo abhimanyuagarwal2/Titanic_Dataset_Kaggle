{
  "nbformat": 4,
  "nbformat_minor": 0,
  "metadata": {
    "colab": {
      "provenance": []
    },
    "kernelspec": {
      "name": "python3",
      "display_name": "Python 3"
    },
    "language_info": {
      "name": "python"
    }
  },
  "cells": [
    {
      "cell_type": "code",
      "execution_count": 14,
      "metadata": {
        "id": "aNx7DJ-pM_cj"
      },
      "outputs": [],
      "source": [
        "import numpy as np\n",
        "import pandas as pd\n",
        "import matplotlib.pyplot as plt\n",
        "from sklearn.neural_network import MLPClassifier\n",
        "from sklearn.preprocessing import StandardScaler \n",
        "from sklearn.model_selection import train_test_split\n",
        "from sklearn.metrics import classification_report, accuracy_score, confusion_matrix\n",
        "from sklearn.tree import DecisionTreeClassifier\n",
        "import warnings\n",
        "warnings.filterwarnings(\"ignore\")"
      ]
    },
    {
      "cell_type": "code",
      "source": [
        "def confusion_mat(confusion):\n",
        "    TN = confusion[0][0]\n",
        "    FN = confusion[1][0]\n",
        "    TP = confusion[1][1]\n",
        "    FP = confusion[0][1]\n",
        "    sensitivity_test = TP/(TP+FN)*100\n",
        "    specificity_test = TN/(FP+TN)*100\n",
        "    return sensitivity_test,specificity_test"
      ],
      "metadata": {
        "id": "vpl0mS8t2BTJ"
      },
      "execution_count": 15,
      "outputs": []
    },
    {
      "cell_type": "markdown",
      "source": [
        "## **Reading Titanic.csv file and filling the missing values using the mean of each column**"
      ],
      "metadata": {
        "id": "_AeNjSaURUDH"
      }
    },
    {
      "cell_type": "code",
      "source": [
        "Survived={}\n",
        "Fatalities={}\n",
        "df=pd.read_csv(\"Titanic.csv\")\n",
        "df.drop(df.columns[[0]], axis=1, inplace=True)\n",
        "df=df[[\"pclass\",\"sex\",\"age\",\"sibsp\",\"survived\"]]\n",
        "df[\"pclass\"]=df[\"pclass\"].map({\"1st\":1,\"2nd\":2,\"3rd\":3})\n",
        "df[\"sex\"]=df[\"sex\"].map({\"female\":1,\"male\":0})\n",
        "df[\"age\"].fillna((df[\"age\"].mean()),inplace=True)\n",
        "df= df.dropna()\n",
        "X= df.iloc[:,:-1]\n",
        "y=df.iloc[ : ,-1:]"
      ],
      "metadata": {
        "id": "m03BOb-jNMTB"
      },
      "execution_count": 16,
      "outputs": []
    },
    {
      "cell_type": "markdown",
      "source": [
        "## **Scaling the data so that all the columns are on the the same scale. Performed this to get age in the same scale**"
      ],
      "metadata": {
        "id": "ah8TW56tRktK"
      }
    },
    {
      "cell_type": "code",
      "source": [
        "scaler = StandardScaler()  \n",
        "scaler.fit(X)\n",
        "df1 = pd.DataFrame(scaler.transform(X))"
      ],
      "metadata": {
        "id": "5WpuEKPKOiNe"
      },
      "execution_count": 17,
      "outputs": []
    },
    {
      "cell_type": "markdown",
      "source": [
        "## **Spliting the data into train and test (80-20 split)**"
      ],
      "metadata": {
        "id": "vAstxsWcRsmo"
      }
    },
    {
      "cell_type": "code",
      "source": [
        "X_train, X_test, y_train, y_test = train_test_split(df1, y, test_size=0.2,random_state=42)"
      ],
      "metadata": {
        "id": "UOQIB2rCPJVU"
      },
      "execution_count": 18,
      "outputs": []
    },
    {
      "cell_type": "markdown",
      "source": [
        "**First taking solver = SGD, number of hidden layer neuron = 5. and keeping learning rate as adaptive**"
      ],
      "metadata": {
        "id": "3eZbgI_N3OsK"
      }
    },
    {
      "cell_type": "code",
      "source": [
        "classifier = MLPClassifier(solver='sgd',hidden_layer_sizes=(5,2),activation='logistic',learning_rate='adaptive',\n",
        "                           learning_rate_init=0.1,alpha=0.000000001, momentum=0.5)\n",
        "classifier = classifier.fit(X_train, y_train)\n",
        "y_pred = classifier.predict(X_test)\n",
        "accuracy_score(y_test, y_pred)"
      ],
      "metadata": {
        "colab": {
          "base_uri": "https://localhost:8080/"
        },
        "id": "DAx2gfpIRDVc",
        "outputId": "b2a9505b-7489-48e7-8079-aefb847ed2ff"
      },
      "execution_count": 19,
      "outputs": [
        {
          "output_type": "execute_result",
          "data": {
            "text/plain": [
              "0.767175572519084"
            ]
          },
          "metadata": {},
          "execution_count": 19
        }
      ]
    },
    {
      "cell_type": "code",
      "source": [
        "conf_matrix = confusion_matrix(y_test, y_pred)\n",
        "sensitivity_test,specificity_test=confusion_mat(conf_matrix)\n",
        "\n",
        "Survived[\"Survived_ANN_5\"]=sensitivity_test\n",
        "Fatalities[\"Fatalities_ANN_5\"]=specificity_test"
      ],
      "metadata": {
        "id": "e_q0R-wev37b"
      },
      "execution_count": 20,
      "outputs": []
    },
    {
      "cell_type": "code",
      "source": [
        "print(\"\\033[1m\",f\"Out of sample percent survivors correctly predicted on Test Set for 5 hidden neuron= {(sensitivity_test):.3f}\",\"\\033[0m\" )\n",
        "print(\"\\033[1m\",f\"Out of sample percent fatalities correctly predicted on Test Set for 5 hidden neuron= {(specificity_test):.3f}\",\"\\033[0m\" )"
      ],
      "metadata": {
        "colab": {
          "base_uri": "https://localhost:8080/"
        },
        "id": "4drkjb7L2VRy",
        "outputId": "31496eb1-4c18-4c87-d2d1-76121af14a1e"
      },
      "execution_count": 21,
      "outputs": [
        {
          "output_type": "stream",
          "name": "stdout",
          "text": [
            "\u001b[1m Out of sample percent survivors correctly predicted on Test Set for 5 hidden neuron= 62.712 \u001b[0m\n",
            "\u001b[1m Out of sample percent fatalities correctly predicted on Test Set for 5 hidden neuron= 88.194 \u001b[0m\n"
          ]
        }
      ]
    },
    {
      "cell_type": "markdown",
      "source": [
        "**Now training another MLP with number of hidden layer neuron = 100 and keeping other parameters same as before**"
      ],
      "metadata": {
        "id": "rR2abhII3MD9"
      }
    },
    {
      "cell_type": "code",
      "source": [
        "classifier = MLPClassifier(solver='sgd',hidden_layer_sizes=(50,2),activation='logistic',learning_rate='adaptive',\n",
        "                           learning_rate_init=0.1,alpha=0.000000001, momentum=0.5)\n",
        "classifier = classifier.fit(X_train, y_train)\n",
        "y_pred = classifier.predict(X_test)\n",
        "accuracy_score(y_test, y_pred)"
      ],
      "metadata": {
        "colab": {
          "base_uri": "https://localhost:8080/"
        },
        "id": "eHoO-at32o8K",
        "outputId": "080d42b1-2817-41ef-974e-a892d3d33ffe"
      },
      "execution_count": 22,
      "outputs": [
        {
          "output_type": "execute_result",
          "data": {
            "text/plain": [
              "0.767175572519084"
            ]
          },
          "metadata": {},
          "execution_count": 22
        }
      ]
    },
    {
      "cell_type": "code",
      "source": [
        "conf_matrix = confusion_matrix(y_test, y_pred)\n",
        "sensitivity_test,specificity_test=confusion_mat(conf_matrix)\n",
        "Survived[\"Survived_ANN_50\"]=sensitivity_test\n",
        "Fatalities[\"Fatalities_ANN_50\"]=specificity_test"
      ],
      "metadata": {
        "id": "caHxx8QC37fa"
      },
      "execution_count": 23,
      "outputs": []
    },
    {
      "cell_type": "code",
      "source": [
        "print(\"\\033[1m\",f\"Out of sample percent survivors correctly predicted on Test Set for 100 hidden neuron = {(sensitivity_test):.3f}\",\"\\033[0m\" )\n",
        "print(\"\\033[1m\",f\"Out of sample percent fatalities correctly predicted on Test Set for 100 hidden neuron= {(specificity_test):.3f}\",\"\\033[0m\" )"
      ],
      "metadata": {
        "colab": {
          "base_uri": "https://localhost:8080/"
        },
        "id": "QIDI7pg439qJ",
        "outputId": "896839dd-0e1d-407b-a6a2-cd001a381d1b"
      },
      "execution_count": 24,
      "outputs": [
        {
          "output_type": "stream",
          "name": "stdout",
          "text": [
            "\u001b[1m Out of sample percent survivors correctly predicted on Test Set for 100 hidden neuron = 60.169 \u001b[0m\n",
            "\u001b[1m Out of sample percent fatalities correctly predicted on Test Set for 100 hidden neuron= 90.278 \u001b[0m\n"
          ]
        }
      ]
    },
    {
      "cell_type": "markdown",
      "source": [
        "##Here when we increase the number of hidden layer neuron from 5 to 50, doesn't change much that means for our data we require very less number of neuron i neach hidden layer to predict the data correctly. These means for our data we do not need many hidden neuron to predict the data and the task can be done using only a few of them. These results not only depend on the number of neurons but also on the other parameters such as the alpha and momentum chossen. For my model modifying alpha is not affecting my model by much but the change of gradient descent when decreased the accuracy increases which might also tell us that the model is overfitting."
      ],
      "metadata": {
        "id": "eMe5zleG6ORV"
      }
    },
    {
      "cell_type": "markdown",
      "source": [
        "**Re-evaluating the random forest using max node=5 which was calculated during homework 3**"
      ],
      "metadata": {
        "id": "1nHmD8bl5OQv"
      }
    },
    {
      "cell_type": "code",
      "source": [
        "clf = DecisionTreeClassifier(criterion='gini',max_leaf_nodes=5)\n",
        "clf = clf.fit(X_train, y_train)\n",
        "\n",
        "y_pred = clf.predict(X_test)"
      ],
      "metadata": {
        "id": "mgef2lSE4AaN"
      },
      "execution_count": 25,
      "outputs": []
    },
    {
      "cell_type": "code",
      "source": [
        "conf_matrix = confusion_matrix(y_test, y_pred)\n",
        "sensitivity_test,specificity_test=confusion_mat(conf_matrix)\n",
        "Survived[\"Survived_RF\"]=sensitivity_test\n",
        "Fatalities[\"Fatalities_RF\"]=specificity_test"
      ],
      "metadata": {
        "id": "Bn0Y0Y5G5hxq"
      },
      "execution_count": 26,
      "outputs": []
    },
    {
      "cell_type": "code",
      "source": [
        "print(\"\\033[1m\",f\"Out of sample percent survivors correctly predicted on Test Set for Random Forest= {(sensitivity_test):.3f}\",\"\\033[0m\" )\n",
        "print(\"\\033[1m\",f\"Out of sample percent fatalities correctly predicted on Test Set for Random Forest= {(specificity_test):.3f}\",\"\\033[0m\" )"
      ],
      "metadata": {
        "colab": {
          "base_uri": "https://localhost:8080/"
        },
        "id": "BYU2QYv75vFJ",
        "outputId": "d1795785-86fa-40f9-b0a0-1f75d17f88fe"
      },
      "execution_count": 27,
      "outputs": [
        {
          "output_type": "stream",
          "name": "stdout",
          "text": [
            "\u001b[1m Out of sample percent survivors correctly predicted on Test Set for Random Forest= 46.610 \u001b[0m\n",
            "\u001b[1m Out of sample percent fatalities correctly predicted on Test Set for Random Forest= 97.222 \u001b[0m\n"
          ]
        }
      ]
    },
    {
      "cell_type": "markdown",
      "source": [
        "Plotting all the accuracy for both survided and Fatalities achieved from both 5 count neural netwrok hidden layer, 100 count neural network hidden layer and using the Ranfom forest having max leaves node = 5\n",
        "\n",
        "\n",
        "\n"
      ],
      "metadata": {
        "id": "bE5v4c1f8IG5"
      }
    },
    {
      "cell_type": "code",
      "source": [
        "\n",
        "plt.bar(Survived.keys(), Survived.values(), color ='blue',width = 0.4)\n",
        "\n",
        " \n",
        "for i in range(len(list(Survived.keys()))):\n",
        "        plt.text(i, list(Survived.values())[i], round((list(Survived.values())[i]),2), ha = 'center')\n",
        "\n",
        "\n",
        "plt.ylabel(\"Accuracy\")\n",
        "plt.title(\"out‐of‐sample percent survivors correctly predicted (on testing set)\")\n",
        "plt.show()"
      ],
      "metadata": {
        "colab": {
          "base_uri": "https://localhost:8080/",
          "height": 282
        },
        "id": "F_fnlxCS5wr4",
        "outputId": "1ed69c07-23b9-4ea9-999e-6686a908e7bf"
      },
      "execution_count": 28,
      "outputs": [
        {
          "output_type": "display_data",
          "data": {
            "text/plain": [
              "<Figure size 432x288 with 1 Axes>"
            ],
            "image/png": "[encoded data removed]"
          },
          "metadata": {
            "needs_background": "light"
          }
        }
      ]
    },
    {
      "cell_type": "code",
      "source": [
        "plt.bar(Fatalities.keys(), Fatalities.values(), color ='red',width = 0.4)\n",
        "\n",
        " \n",
        "for i in range(len(list(Fatalities.keys()))):\n",
        "        plt.text(i, list(Fatalities.values())[i], round((list(Fatalities.values())[i]),2), ha = 'center')\n",
        "\n",
        "\n",
        "plt.ylabel(\"Accuracy\")\n",
        "plt.title(\"out-of‐sample percent fatalities correctly predicted (on testing set)\")\n",
        "plt.show()"
      ],
      "metadata": {
        "colab": {
          "base_uri": "https://localhost:8080/",
          "height": 282
        },
        "id": "LizJR1-V_SYz",
        "outputId": "45e036be-9e08-4bd0-e23b-9f5754e95bb9"
      },
      "execution_count": 29,
      "outputs": [
        {
          "output_type": "display_data",
          "data": {
            "text/plain": [
              "<Figure size 432x288 with 1 Axes>"
            ],
            "image/png": "[encoded data removed]"
          },
          "metadata": {
            "needs_background": "light"
          }
        }
      ]
    },
    {
      "cell_type": "code",
      "source": [
        "df = pd.DataFrame(columns=['Parameter', 'Pruned DT', '5 HL NN','50 HL NN'])\n",
        "df = df.append({'Parameter': 'out‐of‐sample percent survivors correctly predicted (on testing set)', 'Pruned DT':Survived[\"Survived_RF\"], '5 HL NN': Survived[\"Survived_ANN_50\"],'50 HL NN':Survived[\"Survived_ANN_5\"]}, ignore_index=True)\n",
        "df = df.append({'Parameter': 'out-of‐sample percent fatalities correctly predicted (on testing set)', 'Pruned DT': Fatalities[\"Fatalities_RF\"], '5 HL NN': Fatalities[\"Fatalities_ANN_50\"],'50 HL NN':Fatalities[\"Fatalities_ANN_5\"]}, ignore_index=True)\n",
        "pd.set_option('display.max_colwidth', -1)\n",
        "df"
      ],
      "metadata": {
        "colab": {
          "base_uri": "https://localhost:8080/",
          "height": 112
        },
        "id": "fFbmqsj1Ceo4",
        "outputId": "7c9b5526-a446-4cc5-d4f7-b833ff2ae3f9"
      },
      "execution_count": 32,
      "outputs": [
        {
          "output_type": "execute_result",
          "data": {
            "text/plain": [
              "                                                               Parameter  \\\n",
              "0  out‐of‐sample percent survivors correctly predicted (on testing set)    \n",
              "1  out-of‐sample percent fatalities correctly predicted (on testing set)   \n",
              "\n",
              "   Pruned DT    5 HL NN   50 HL NN  \n",
              "0  46.610169  60.169492  62.711864  \n",
              "1  97.222222  90.277778  88.194444  "
            ],
            "text/html": [
              "\n",
              "  <div id=\"df-0d7466a8-1039-4455-a8ff-fce84934e6c6\">\n",
              "    <div class=\"colab-df-container\">\n",
              "      <div>\n",
              "<style scoped>\n",
              "    .dataframe tbody tr th:only-of-type {\n",
              "        vertical-align: middle;\n",
              "    }\n",
              "\n",
              "    .dataframe tbody tr th {\n",
              "        vertical-align: top;\n",
              "    }\n",
              "\n",
              "    .dataframe thead th {\n",
              "        text-align: right;\n",
              "    }\n",
              "</style>\n",
              "<table border=\"1\" class=\"dataframe\">\n",
              "  <thead>\n",
              "    <tr style=\"text-align: right;\">\n",
              "      <th></th>\n",
              "      <th>Parameter</th>\n",
              "      <th>Pruned DT</th>\n",
              "      <th>5 HL NN</th>\n",
              "      <th>50 HL NN</th>\n",
              "    </tr>\n",
              "  </thead>\n",
              "  <tbody>\n",
              "    <tr>\n",
              "      <th>0</th>\n",
              "      <td>out‐of‐sample percent survivors correctly predicted (on testing set)</td>\n",
              "      <td>46.610169</td>\n",
              "      <td>60.169492</td>\n",
              "      <td>62.711864</td>\n",
              "    </tr>\n",
              "    <tr>\n",
              "      <th>1</th>\n",
              "      <td>out-of‐sample percent fatalities correctly predicted (on testing set)</td>\n",
              "      <td>97.222222</td>\n",
              "      <td>90.277778</td>\n",
              "      <td>88.194444</td>\n",
              "    </tr>\n",
              "  </tbody>\n",
              "</table>\n",
              "</div>\n",
              "      <button class=\"colab-df-convert\" onclick=\"convertToInteractive('df-0d7466a8-1039-4455-a8ff-fce84934e6c6')\"\n",
              "              title=\"Convert this dataframe to an interactive table.\"\n",
              "              style=\"display:none;\">\n",
              "        \n",
              "  <svg xmlns=\"http://www.w3.org/2000/svg\" height=\"24px\"viewBox=\"0 0 24 24\"\n",
              "       width=\"24px\">\n",
              "    <path d=\"M0 0h24v24H0V0z\" fill=\"none\"/>\n",
              "    <path d=\"M18.56 5.44l.94 2.06.94-2.06 2.06-.94-2.06-.94-.94-2.06-.94 2.06-2.06.94zm-11 1L8.5 8.5l.94-2.06 2.06-.94-2.06-.94L8.5 2.5l-.94 2.06-2.06.94zm10 10l.94 2.06.94-2.06 2.06-.94-2.06-.94-.94-2.06-.94 2.06-2.06.94z\"/><path d=\"M17.41 7.96l-1.37-1.37c-.4-.4-.92-.59-1.43-.59-.52 0-1.04.2-1.43.59L10.3 9.45l-7.72 7.72c-.78.78-.78 2.05 0 2.83L4 21.41c.39.39.9.59 1.41.59.51 0 1.02-.2 1.41-.59l7.78-7.78 2.81-2.81c.8-.78.8-2.07 0-2.86zM5.41 20L4 18.59l7.72-7.72 1.47 1.35L5.41 20z\"/>\n",
              "  </svg>\n",
              "      </button>\n",
              "      \n",
              "  <style>\n",
              "    .colab-df-container {\n",
              "      display:flex;\n",
              "      flex-wrap:wrap;\n",
              "      gap: 12px;\n",
              "    }\n",
              "\n",
              "    .colab-df-convert {\n",
              "      background-color: #E8F0FE;\n",
              "      border: none;\n",
              "      border-radius: 50%;\n",
              "      cursor: pointer;\n",
              "      display: none;\n",
              "      fill: #1967D2;\n",
              "      height: 32px;\n",
              "      padding: 0 0 0 0;\n",
              "      width: 32px;\n",
              "    }\n",
              "\n",
              "    .colab-df-convert:hover {\n",
              "      background-color: #E2EBFA;\n",
              "      box-shadow: 0px 1px 2px rgba(60, 64, 67, 0.3), 0px 1px 3px 1px rgba(60, 64, 67, 0.15);\n",
              "      fill: #174EA6;\n",
              "    }\n",
              "\n",
              "    [theme=dark] .colab-df-convert {\n",
              "      background-color: #3B4455;\n",
              "      fill: #D2E3FC;\n",
              "    }\n",
              "\n",
              "    [theme=dark] .colab-df-convert:hover {\n",
              "      background-color: #434B5C;\n",
              "      box-shadow: 0px 1px 3px 1px rgba(0, 0, 0, 0.15);\n",
              "      filter: drop-shadow(0px 1px 2px rgba(0, 0, 0, 0.3));\n",
              "      fill: #FFFFFF;\n",
              "    }\n",
              "  </style>\n",
              "\n",
              "      <script>\n",
              "        const buttonEl =\n",
              "          document.querySelector('#df-0d7466a8-1039-4455-a8ff-fce84934e6c6 button.colab-df-convert');\n",
              "        buttonEl.style.display =\n",
              "          google.colab.kernel.accessAllowed ? 'block' : 'none';\n",
              "\n",
              "        async function convertToInteractive(key) {\n",
              "          const element = document.querySelector('#df-0d7466a8-1039-4455-a8ff-fce84934e6c6');\n",
              "          const dataTable =\n",
              "            await google.colab.kernel.invokeFunction('convertToInteractive',\n",
              "                                                     [key], {});\n",
              "          if (!dataTable) return;\n",
              "\n",
              "          const docLinkHtml = 'Like what you see? Visit the ' +\n",
              "            '<a target=\"_blank\" href=https://colab.research.google.com/notebooks/data_table.ipynb>data table notebook</a>'\n",
              "            + ' to learn more about interactive tables.';\n",
              "          element.innerHTML = '';\n",
              "          dataTable['output_type'] = 'display_data';\n",
              "          await google.colab.output.renderOutput(dataTable, element);\n",
              "          const docLink = document.createElement('div');\n",
              "          docLink.innerHTML = docLinkHtml;\n",
              "          element.appendChild(docLink);\n",
              "        }\n",
              "      </script>\n",
              "    </div>\n",
              "  </div>\n",
              "  "
            ]
          },
          "metadata": {},
          "execution_count": 32
        }
      ]
    },
    {
      "cell_type": "markdown",
      "source": [
        " *The above results clearly shows that Ann was better able to predict the Survived cases in respect to RF and also the Fatalities calculated are very close by though RF had a higher accuracy in the prediction of Fatalities. So in general the Titanic Dataset can be better predicted using the ANN model then RF.*"
      ],
      "metadata": {
        "id": "IIaX-LFjFkka"
      }
    }
  ]
}